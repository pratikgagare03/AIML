{
 "cells": [
  {
   "cell_type": "code",
   "execution_count": 1,
   "id": "eb04462c-87bc-4a34-8792-ed1d65f5d71b",
   "metadata": {},
   "outputs": [
    {
     "name": "stderr",
     "output_type": "stream",
     "text": [
      "[ WARN:0@0.071] global /io/opencv/modules/videoio/src/cap_v4l.cpp (902) open VIDEOIO(V4L2:/dev/video1): can't open camera by index\n"
     ]
    },
    {
     "ename": "AttributeError",
     "evalue": "'NoneType' object has no attribute 'shape'",
     "output_type": "error",
     "traceback": [
      "\u001b[0;31m---------------------------------------------------------------------------\u001b[0m",
      "\u001b[0;31mAttributeError\u001b[0m                            Traceback (most recent call last)",
      "Input \u001b[0;32mIn [1]\u001b[0m, in \u001b[0;36m<cell line: 15>\u001b[0;34m()\u001b[0m\n\u001b[1;32m     16\u001b[0m _, img \u001b[38;5;241m=\u001b[39m cam\u001b[38;5;241m.\u001b[39mread()  \u001b[38;5;66;03m# read the frame from the camera\u001b[39;00m\n\u001b[1;32m     17\u001b[0m text \u001b[38;5;241m=\u001b[39m \u001b[38;5;124m\"\u001b[39m\u001b[38;5;124mNormal\u001b[39m\u001b[38;5;124m\"\u001b[39m  \u001b[38;5;66;03m# initialize the text as Normal\u001b[39;00m\n\u001b[0;32m---> 18\u001b[0m img \u001b[38;5;241m=\u001b[39m \u001b[43mimutils\u001b[49m\u001b[38;5;241;43m.\u001b[39;49m\u001b[43mresize\u001b[49m\u001b[43m(\u001b[49m\u001b[43mimg\u001b[49m\u001b[43m,\u001b[49m\u001b[43m \u001b[49m\u001b[43mwidth\u001b[49m\u001b[38;5;241;43m=\u001b[39;49m\u001b[38;5;241;43m500\u001b[39;49m\u001b[43m)\u001b[49m  \u001b[38;5;66;03m# resize the image\u001b[39;00m\n\u001b[1;32m     19\u001b[0m grayImg \u001b[38;5;241m=\u001b[39m cv2\u001b[38;5;241m.\u001b[39mcvtColor(img, cv2\u001b[38;5;241m.\u001b[39mCOLOR_BGR2GRAY)  \u001b[38;5;66;03m# convert color to Gray:\u001b[39;00m\n\u001b[1;32m     21\u001b[0m gaussianImg \u001b[38;5;241m=\u001b[39m cv2\u001b[38;5;241m.\u001b[39mGaussianBlur(grayImg, (\u001b[38;5;241m21\u001b[39m, \u001b[38;5;241m21\u001b[39m), \u001b[38;5;241m0\u001b[39m)  \u001b[38;5;66;03m# smoothening\u001b[39;00m\n",
      "File \u001b[0;32m~/.local/lib/python3.10/site-packages/imutils/convenience.py:69\u001b[0m, in \u001b[0;36mresize\u001b[0;34m(image, width, height, inter)\u001b[0m\n\u001b[1;32m     65\u001b[0m \u001b[38;5;28;01mdef\u001b[39;00m \u001b[38;5;21mresize\u001b[39m(image, width\u001b[38;5;241m=\u001b[39m\u001b[38;5;28;01mNone\u001b[39;00m, height\u001b[38;5;241m=\u001b[39m\u001b[38;5;28;01mNone\u001b[39;00m, inter\u001b[38;5;241m=\u001b[39mcv2\u001b[38;5;241m.\u001b[39mINTER_AREA):\n\u001b[1;32m     66\u001b[0m     \u001b[38;5;66;03m# initialize the dimensions of the image to be resized and\u001b[39;00m\n\u001b[1;32m     67\u001b[0m     \u001b[38;5;66;03m# grab the image size\u001b[39;00m\n\u001b[1;32m     68\u001b[0m     dim \u001b[38;5;241m=\u001b[39m \u001b[38;5;28;01mNone\u001b[39;00m\n\u001b[0;32m---> 69\u001b[0m     (h, w) \u001b[38;5;241m=\u001b[39m \u001b[43mimage\u001b[49m\u001b[38;5;241;43m.\u001b[39;49m\u001b[43mshape\u001b[49m[:\u001b[38;5;241m2\u001b[39m]\n\u001b[1;32m     71\u001b[0m     \u001b[38;5;66;03m# if both the width and height are None, then return the\u001b[39;00m\n\u001b[1;32m     72\u001b[0m     \u001b[38;5;66;03m# original image\u001b[39;00m\n\u001b[1;32m     73\u001b[0m     \u001b[38;5;28;01mif\u001b[39;00m width \u001b[38;5;129;01mis\u001b[39;00m \u001b[38;5;28;01mNone\u001b[39;00m \u001b[38;5;129;01mand\u001b[39;00m height \u001b[38;5;129;01mis\u001b[39;00m \u001b[38;5;28;01mNone\u001b[39;00m:\n",
      "\u001b[0;31mAttributeError\u001b[0m: 'NoneType' object has no attribute 'shape'"
     ]
    }
   ],
   "source": [
    "import cv2  # imported opencv\n",
    "\n",
    "import time  # time library\n",
    "\n",
    "import imutils  # resizing library\n",
    "\n",
    "# initialize the camera time.sleep (1) #1 second delay\n",
    "cam = cv2.VideoCapture(1)\n",
    "success, cv_img = cam.read()\n",
    "\n",
    "firstFrame = None  # initializing there are no object.\n",
    "\n",
    "area = 500  # threshold\n",
    "\n",
    "while True:  # infinite loop\n",
    "    _, img = cam.read()  # read the frame from the camera\n",
    "    text = \"Normal\"  # initialize the text as Normal\n",
    "    img = imutils.resize(img, width=500)  # resize the image\n",
    "    grayImg = cv2.cvtColor(img, cv2.COLOR_BGR2GRAY)  # convert color to Gray:\n",
    "\n",
    "    gaussianImg = cv2.GaussianBlur(grayImg, (21, 21), 0)  # smoothening\n",
    "\n",
    "    if firstFrame is None:\n",
    "        firstFrame = gaussianImg  # we are saving the first preprocessed 1\n",
    "        continue\n",
    "\n",
    "    imgDiff = cv2.absdiff(firstFrame, gaussianImg)  # subtracting current frar\n",
    "    threshImg = cv2.threshold(imgDiff, 25, 255, cv2.THRESH_BINARY)[1]  # thre:\n",
    "    threshImg = cv2.dilate(threshImg, None, iterations=2)  # remove holes\n",
    "    # covering up the whole moving object a\n",
    "    cnts = cv2.findContours(\n",
    "        threshImg.copy(), cv2.RETR_EXTERNAL, cv2.CHAINAPPROXSIMPLE)\n",
    "\n",
    "    cnts = imutils.grab_contours(cnts)\n",
    "\n",
    "    for c in cnts:\n",
    "        if cv2.contourArea(c) < area:\n",
    "            continue\n",
    "        (x, y, w, h) = cv2.boundingRect(c)\n",
    "        cv2.rectangle(img, (x, y), (x+w, y + h), (0, 255, 0), 2)\n",
    "        text = \"Moving Object detected\"\n",
    "\n",
    "    print(text)\n",
    "\n",
    "    cv2.putText(img, text, (10, 20),\n",
    "                cv2.FONT_HERSHEY_SIMPLEX, 0.5, (0, 0, 255), 2)\n",
    "    cv2.imshow(\"cameraFeed\", img)\n",
    "    key = cv2.waitKey(1) & 0xFF\n",
    "    if key == ord(\"q\"):\n",
    "        break\n",
    "\n",
    "cam.release()\n",
    "\n",
    "cv2.destroyAllWindows()\n"
   ]
  },
  {
   "cell_type": "code",
   "execution_count": null,
   "id": "e8fc2a76-37d7-460b-a7eb-bb8f0857e531",
   "metadata": {},
   "outputs": [],
   "source": []
  }
 ],
 "metadata": {
  "kernelspec": {
   "display_name": "Python 3 (ipykernel)",
   "language": "python",
   "name": "python3"
  },
  "language_info": {
   "codemirror_mode": {
    "name": "ipython",
    "version": 3
   },
   "file_extension": ".py",
   "mimetype": "text/x-python",
   "name": "python",
   "nbconvert_exporter": "python",
   "pygments_lexer": "ipython3",
   "version": "3.10.4"
  }
 },
 "nbformat": 4,
 "nbformat_minor": 5
}
